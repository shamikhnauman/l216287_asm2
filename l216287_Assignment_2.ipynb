{
 "cells": [
  {
   "cell_type": "markdown",
   "metadata": {
    "id": "TWWLTwYZorzC"
   },
   "source": [
    "# Introduction To Data Science – Assignment 2\n",
    "\n",
    "---\n",
    "\n",
    "#### Sections A – B – C – D\n",
    "\n",
    "---\n",
    "\n",
    "##***Instructions: Read These Carefully Before Starting!***\n",
    "\n",
    "1. Due Date: Thursday 20th October 2022 – 11:59PM\n",
    "\n",
    "2. **Name the file in the format Lyyxxxx_A2.ipynb and save it as .ipynb (e.g. L216666_A2.ipynb)**\n",
    "\n",
    "3. Submission will be taken on Google Classroom (**submit SINGLE .ipynb file ONLY**)\n",
    "\n",
    "4. **Assignment will not be evaluated if**:\n",
    "\n",
    "> * You submit python (.py) files\n",
    "> * You submit multiple .ipynb files\n",
    "> * You submit compressed (.rar or .zip) files\n",
    "\n",
    "5. **Work in the spaces provided and do not delete/modify any cells from this template.**\n",
    "\n",
    "6. Upload data files directly to Google Colab - do not use Google Drive or GitHub linking method\n",
    "\n",
    "*Not following these instructions will lead to mark deduction.*\n",
    "\n",
    "---\n",
    "\n",
    "All source files needed to complete this assignment can be found on the following [Google Drive link](https://drive.google.com/drive/folders/1qBib_6ZOhvHb73ZRLWiCMWl9NFyU1IDO?usp=sharing). Download these files and upload them to your Google Colab Notebook. \n",
    "\n",
    "**Do not link Google Drive or GitHub with Colab.**\n",
    "\n",
    "**Do not add these files with your submission on Google Classroom.**\n",
    "\n",
    "---\n",
    "\n",
    "Happy Coding 🌺\n",
    "\n",
    "---\n",
    "\n",
    "TA Emails\n",
    "\n",
    "Section A, C - Muhammad Maarij l192347@lhr.nu.edu.pk\n",
    "\n",
    "Section B, D - Hira Ijaz l192377@lhr.nu.edu.pk\n",
    "\n",
    "---"
   ]
  },
  {
   "cell_type": "markdown",
   "metadata": {
    "id": "mwtAOew56gkd"
   },
   "source": [
    "---\n",
    "## Question 0\n",
    "\n",
    "Add all library imports here"
   ]
  },
  {
   "cell_type": "code",
   "execution_count": null,
   "metadata": {
    "id": "swlE8Tvq6g2u"
   },
   "outputs": [],
   "source": [
    "import numpy as np\n",
    "import pandas as pd\n",
    "from sklearn.model_selection import train_test_split\n",
    "from sklearn import preprocessing\n",
    "from sklearn.linear_model import LogisticRegression\n",
    "import matplotlib.pyplot as plt\n",
    "import seaborn as sns\n",
    "from sklearn import metrics\n",
    "from sklearn.metrics import accuracy_score, precision_score, recall_score, f1_score"
   ]
  },
  {
   "cell_type": "markdown",
   "metadata": {
    "id": "ZR8C9ctqsy3V"
   },
   "source": [
    "---\n",
    "## Question 1\n",
    "\n",
    "####Single Linear Regression with Gradient Descent\n",
    "\n",
    "> Take help from slides 26 and 30\n",
    "---"
   ]
  },
  {
   "cell_type": "markdown",
   "metadata": {
    "id": "DzGOilP7sy3Y"
   },
   "source": [
    "**Part A -**\n",
    "Write a function that calculates and returns value for hypothesis $h_\\theta(x)$"
   ]
  },
  {
   "cell_type": "code",
   "execution_count": null,
   "metadata": {
    "collapsed": true,
    "id": "3bczSIhosy3Z"
   },
   "outputs": [],
   "source": [
    "# complete this function implementation\n",
    "def hypothesis(x, theta):\n",
    "    hyp = (theta[1] * x + theta[0])\n",
    "    return hyp"
   ]
  },
  {
   "cell_type": "markdown",
   "metadata": {
    "id": "dXORHsxSsy3a"
   },
   "source": [
    "**Part B -**\n",
    "Write a function that calculates and returns value for loss/cost $J(\\theta_0, \\theta_1)$"
   ]
  },
  {
   "cell_type": "code",
   "execution_count": null,
   "metadata": {
    "collapsed": true,
    "id": "__DPftoLsy3c"
   },
   "outputs": [],
   "source": [
    "# complete this function implementation\n",
    "def loss(hypothesis_x, y):\n",
    "    m = len(hypothesis_x)\n",
    "    return  sum([(hypothesis_x[i] - y[i])**2 for i in range(m)]) * (2 / m)"
   ]
  },
  {
   "cell_type": "markdown",
   "metadata": {
    "id": "WjWa6pMGsy3d"
   },
   "source": [
    "**Part C-**\n",
    "Write a function that applies the gradient descent algorithm and updates values of $\\theta_0$ and $\\theta_1$ until they converge.\n",
    "\n",
    "* take default vaue of $α$ to be 0.015\n",
    "* take default number of iterations to be 15000\n",
    "* print loss after every 500 iterations"
   ]
  },
  {
   "cell_type": "code",
   "execution_count": null,
   "metadata": {
    "collapsed": true,
    "id": "U7qtzuCWsy3e"
   },
   "outputs": [],
   "source": [
    "# complete this function implementation\n",
    "def gradientdescent(x, y, theta, num_iterations=15000, alpha=0.015):\n",
    "    m = x.size\n",
    "    for j in range(num_iterations):\n",
    "        h = []\n",
    "        for num in x:\n",
    "            h.append(hypothesis(num, theta))\n",
    "        derivative_0 = sum([(hypothesis(x[i], theta) - y[i]) for i in range(m)])\n",
    "        derivative_1 = sum([(hypothesis(x[i], theta) - y[i])*x[i] for i in range(m)])\n",
    "        theta[0] = theta[0] - alpha * (1 / m) * derivative_0\n",
    "        theta[1] = theta[1] - alpha * (1 / m) * derivative_1\n",
    "        # report\n",
    "        if j % 500 == 0:\n",
    "\n",
    "            print('loss:', loss(h, y))"
   ]
  },
  {
   "cell_type": "markdown",
   "metadata": {
    "id": "0zwvS5cqsy3g"
   },
   "source": [
    "**Part D -**\n",
    "FactoryRevenue.csv contains information about the number of workers in a factory and the annual profit for that factory. Import the file FactoryRevenue.csv as a Pandas DataSet and print out the information for it."
   ]
  },
  {
   "cell_type": "code",
   "execution_count": null,
   "metadata": {
    "colab": {
     "base_uri": "https://localhost:8080/"
    },
    "collapsed": true,
    "id": "Uef-aGHisy3h",
    "outputId": "8a0718ed-28aa-46b9-f050-2ba0899d47ab"
   },
   "outputs": [
    {
     "name": "stdout",
     "output_type": "stream",
     "text": [
      "<class 'pandas.core.frame.DataFrame'>\n",
      "RangeIndex: 99 entries, 0 to 98\n",
      "Data columns (total 2 columns):\n",
      " #   Column               Non-Null Count  Dtype  \n",
      "---  ------               --------------  -----  \n",
      " 0   TotalFactoryWorkers  98 non-null     float64\n",
      " 1   AnnualProfit         98 non-null     float64\n",
      "dtypes: float64(2)\n",
      "memory usage: 1.7 KB\n"
     ]
    }
   ],
   "source": [
    "data = pd.read_csv(\"Update_FactoryRevenue.csv\")\n",
    "data.info()"
   ]
  },
  {
   "cell_type": "markdown",
   "metadata": {
    "id": "yv9_dDiw65o8"
   },
   "source": [
    "**Part E -**\n",
    "Remove rows that have any null values"
   ]
  },
  {
   "cell_type": "code",
   "execution_count": null,
   "metadata": {
    "colab": {
     "base_uri": "https://localhost:8080/"
    },
    "id": "l50u9HZx7H5t",
    "outputId": "f967d7c4-9f1a-48d1-8fde-4836ba9c4c25"
   },
   "outputs": [
    {
     "name": "stdout",
     "output_type": "stream",
     "text": [
      "<class 'pandas.core.frame.DataFrame'>\n",
      "Int64Index: 97 entries, 0 to 98\n",
      "Data columns (total 2 columns):\n",
      " #   Column               Non-Null Count  Dtype  \n",
      "---  ------               --------------  -----  \n",
      " 0   TotalFactoryWorkers  97 non-null     float64\n",
      " 1   AnnualProfit         97 non-null     float64\n",
      "dtypes: float64(2)\n",
      "memory usage: 2.3 KB\n"
     ]
    }
   ],
   "source": [
    "data = data.dropna()\n",
    "data.info()"
   ]
  },
  {
   "cell_type": "markdown",
   "metadata": {
    "id": "u0Y68nh87HJX"
   },
   "source": [
    "**Part F -**\n",
    "\n",
    "First identify the independant and dependant variables. \n",
    "\n",
    "Then create two arrays named x and y and add independant variable data to array x, dependant variable data to array y."
   ]
  },
  {
   "cell_type": "code",
   "execution_count": null,
   "metadata": {
    "id": "m49bbkSy7xxp"
   },
   "outputs": [],
   "source": [
    "# independant variable:\n",
    "# dependant variable:\n",
    "x = np.array(data.iloc[:,0].values)\n",
    "y = np.array(data.iloc[:,1].values)"
   ]
  },
  {
   "cell_type": "markdown",
   "metadata": {
    "id": "8vRXmn9z8H4q"
   },
   "source": [
    "**Part G -** \n",
    "\n",
    "Create an array called 'theta' that will hold $θ_0$ and $θ_1$. Initalize both values to 0.\n",
    "\n",
    "Then call the gradientDescent function using array x, array y, and array theta. Do not provide any other input parameters.\n",
    "\n",
    "Print out the values of y-intercept and slope/gradient"
   ]
  },
  {
   "cell_type": "code",
   "execution_count": null,
   "metadata": {
    "colab": {
     "base_uri": "https://localhost:8080/"
    },
    "id": "e7nBeh3b9KXK",
    "outputId": "087a13ae-1339-4b01-d2ed-c7a8eb1240e0"
   },
   "outputs": [
    {
     "name": "stdout",
     "output_type": "stream",
     "text": [
      "loss: 128.29093550982265\n",
      "loss: 18.291768564326606\n",
      "loss: 17.93349036245195\n",
      "loss: 17.909593338522804\n",
      "loss: 17.907999415840145\n",
      "loss: 17.90789310178507\n",
      "loss: 17.907886010676783\n",
      "loss: 17.907885537702484\n",
      "loss: 17.90788550615528\n",
      "loss: 17.90788550405109\n",
      "loss: 17.90788550391075\n",
      "loss: 17.907885503901383\n",
      "loss: 17.90788550390075\n",
      "loss: 17.907885503900708\n",
      "loss: 17.907885503900705\n",
      "loss: 17.907885503900722\n",
      "loss: 17.907885503900722\n",
      "loss: 17.90788550390071\n",
      "loss: 17.907885503900722\n",
      "loss: 17.90788550390072\n",
      "loss: 17.90788550390071\n",
      "loss: 17.90788550390072\n",
      "loss: 17.90788550390071\n",
      "loss: 17.907885503900708\n",
      "loss: 17.90788550390072\n",
      "loss: 17.90788550390072\n",
      "loss: 17.90788550390072\n",
      "loss: 17.90788550390072\n",
      "loss: 17.90788550390072\n",
      "loss: 17.90788550390072\n",
      "Y-intercept:  -3.895780878311771\n",
      "Slope:  1.1930336441895852\n"
     ]
    }
   ],
   "source": [
    "theta = [0, 0]\n",
    "gradientdescent(x, y, theta)\n",
    "print(\"Y-intercept: \", theta[0])\n",
    "print(\"Slope: \", theta[1])"
   ]
  },
  {
   "cell_type": "markdown",
   "metadata": {
    "id": "lksKYteB9NOx"
   },
   "source": [
    "**Part H -** Plot a scatter plot and regression line on the same graph"
   ]
  },
  {
   "cell_type": "code",
   "execution_count": null,
   "metadata": {
    "colab": {
     "base_uri": "https://localhost:8080/",
     "height": 295
    },
    "id": "Jdah8R6L9XSl",
    "outputId": "b0aae39d-bf49-4232-9b31-351cd1cf8cb7"
   },
   "outputs": [
    {
     "data": {
      "image/png": "[encoded data removed]",
      "text/plain": [
       "<Figure size 432x288 with 1 Axes>"
      ]
     },
     "metadata": {
      "needs_background": "light"
     },
     "output_type": "display_data"
    }
   ],
   "source": [
    "plt.scatter(data[\"TotalFactoryWorkers\"], data[\"AnnualProfit\"])\n",
    "plt.plot(x, theta[1]*x+theta[0], color='blue')\n",
    "plt.title(\"Testing\")\n",
    "plt.xlabel(\"TotalFactoryWorkers\")\n",
    "plt.ylabel(\"AnnualProfit\")\n",
    "plt.show()\n"
   ]
  },
  {
   "cell_type": "markdown",
   "metadata": {
    "id": "upsln2T-38-M"
   },
   "source": [
    "---\n",
    "## Question 2\n",
    "\n",
    "Logistic Regression on Flowers Dataset\n",
    "\n",
    "---\n",
    "\n"
   ]
  },
  {
   "cell_type": "markdown",
   "metadata": {
    "id": "plh_l8AV4MU5"
   },
   "source": [
    "**Part A** - Load the file FlowersData.csv and describe the dataset"
   ]
  },
  {
   "cell_type": "code",
   "execution_count": null,
   "metadata": {
    "colab": {
     "base_uri": "https://localhost:8080/",
     "height": 300
    },
    "id": "p7Cgq8di3771",
    "outputId": "83e4e4be-3914-48e3-eb6b-f8f6b263310f"
   },
   "outputs": [
    {
     "data": {
      "text/html": [
       "\n",
       "  <div id=\"df-2c283603-d251-4619-82c6-6f625a9c2b09\">\n",
       "    <div class=\"colab-df-container\">\n",
       "      <div>\n",
       "<style scoped>\n",
       "    .dataframe tbody tr th:only-of-type {\n",
       "        vertical-align: middle;\n",
       "    }\n",
       "\n",
       "    .dataframe tbody tr th {\n",
       "        vertical-align: top;\n",
       "    }\n",
       "\n",
       "    .dataframe thead th {\n",
       "        text-align: right;\n",
       "    }\n",
       "</style>\n",
       "<table border=\"1\" class=\"dataframe\">\n",
       "  <thead>\n",
       "    <tr style=\"text-align: right;\">\n",
       "      <th></th>\n",
       "      <th>sepal_length</th>\n",
       "      <th>sepal_width</th>\n",
       "      <th>petal_length</th>\n",
       "      <th>petal_width</th>\n",
       "    </tr>\n",
       "  </thead>\n",
       "  <tbody>\n",
       "    <tr>\n",
       "      <th>count</th>\n",
       "      <td>150.000000</td>\n",
       "      <td>150.000000</td>\n",
       "      <td>150.000000</td>\n",
       "      <td>150.000000</td>\n",
       "    </tr>\n",
       "    <tr>\n",
       "      <th>mean</th>\n",
       "      <td>5.843333</td>\n",
       "      <td>3.054000</td>\n",
       "      <td>3.758667</td>\n",
       "      <td>1.198667</td>\n",
       "    </tr>\n",
       "    <tr>\n",
       "      <th>std</th>\n",
       "      <td>0.828066</td>\n",
       "      <td>0.433594</td>\n",
       "      <td>1.764420</td>\n",
       "      <td>0.763161</td>\n",
       "    </tr>\n",
       "    <tr>\n",
       "      <th>min</th>\n",
       "      <td>4.300000</td>\n",
       "      <td>2.000000</td>\n",
       "      <td>1.000000</td>\n",
       "      <td>0.100000</td>\n",
       "    </tr>\n",
       "    <tr>\n",
       "      <th>25%</th>\n",
       "      <td>5.100000</td>\n",
       "      <td>2.800000</td>\n",
       "      <td>1.600000</td>\n",
       "      <td>0.300000</td>\n",
       "    </tr>\n",
       "    <tr>\n",
       "      <th>50%</th>\n",
       "      <td>5.800000</td>\n",
       "      <td>3.000000</td>\n",
       "      <td>4.350000</td>\n",
       "      <td>1.300000</td>\n",
       "    </tr>\n",
       "    <tr>\n",
       "      <th>75%</th>\n",
       "      <td>6.400000</td>\n",
       "      <td>3.300000</td>\n",
       "      <td>5.100000</td>\n",
       "      <td>1.800000</td>\n",
       "    </tr>\n",
       "    <tr>\n",
       "      <th>max</th>\n",
       "      <td>7.900000</td>\n",
       "      <td>4.400000</td>\n",
       "      <td>6.900000</td>\n",
       "      <td>2.500000</td>\n",
       "    </tr>\n",
       "  </tbody>\n",
       "</table>\n",
       "</div>\n",
       "      <button class=\"colab-df-convert\" onclick=\"convertToInteractive('df-2c283603-d251-4619-82c6-6f625a9c2b09')\"\n",
       "              title=\"Convert this dataframe to an interactive table.\"\n",
       "              style=\"display:none;\">\n",
       "        \n",
       "  <svg xmlns=\"http://www.w3.org/2000/svg\" height=\"24px\"viewBox=\"0 0 24 24\"\n",
       "       width=\"24px\">\n",
       "    <path d=\"M0 0h24v24H0V0z\" fill=\"none\"/>\n",
       "    <path d=\"M18.56 5.44l.94 2.06.94-2.06 2.06-.94-2.06-.94-.94-2.06-.94 2.06-2.06.94zm-11 1L8.5 8.5l.94-2.06 2.06-.94-2.06-.94L8.5 2.5l-.94 2.06-2.06.94zm10 10l.94 2.06.94-2.06 2.06-.94-2.06-.94-.94-2.06-.94 2.06-2.06.94z\"/><path d=\"M17.41 7.96l-1.37-1.37c-.4-.4-.92-.59-1.43-.59-.52 0-1.04.2-1.43.59L10.3 9.45l-7.72 7.72c-.78.78-.78 2.05 0 2.83L4 21.41c.39.39.9.59 1.41.59.51 0 1.02-.2 1.41-.59l7.78-7.78 2.81-2.81c.8-.78.8-2.07 0-2.86zM5.41 20L4 18.59l7.72-7.72 1.47 1.35L5.41 20z\"/>\n",
       "  </svg>\n",
       "      </button>\n",
       "      \n",
       "  <style>\n",
       "    .colab-df-container {\n",
       "      display:flex;\n",
       "      flex-wrap:wrap;\n",
       "      gap: 12px;\n",
       "    }\n",
       "\n",
       "    .colab-df-convert {\n",
       "      background-color: #E8F0FE;\n",
       "      border: none;\n",
       "      border-radius: 50%;\n",
       "      cursor: pointer;\n",
       "      display: none;\n",
       "      fill: #1967D2;\n",
       "      height: 32px;\n",
       "      padding: 0 0 0 0;\n",
       "      width: 32px;\n",
       "    }\n",
       "\n",
       "    .colab-df-convert:hover {\n",
       "      background-color: #E2EBFA;\n",
       "      box-shadow: 0px 1px 2px rgba(60, 64, 67, 0.3), 0px 1px 3px 1px rgba(60, 64, 67, 0.15);\n",
       "      fill: #174EA6;\n",
       "    }\n",
       "\n",
       "    [theme=dark] .colab-df-convert {\n",
       "      background-color: #3B4455;\n",
       "      fill: #D2E3FC;\n",
       "    }\n",
       "\n",
       "    [theme=dark] .colab-df-convert:hover {\n",
       "      background-color: #434B5C;\n",
       "      box-shadow: 0px 1px 3px 1px rgba(0, 0, 0, 0.15);\n",
       "      filter: drop-shadow(0px 1px 2px rgba(0, 0, 0, 0.3));\n",
       "      fill: #FFFFFF;\n",
       "    }\n",
       "  </style>\n",
       "\n",
       "      <script>\n",
       "        const buttonEl =\n",
       "          document.querySelector('#df-2c283603-d251-4619-82c6-6f625a9c2b09 button.colab-df-convert');\n",
       "        buttonEl.style.display =\n",
       "          google.colab.kernel.accessAllowed ? 'block' : 'none';\n",
       "\n",
       "        async function convertToInteractive(key) {\n",
       "          const element = document.querySelector('#df-2c283603-d251-4619-82c6-6f625a9c2b09');\n",
       "          const dataTable =\n",
       "            await google.colab.kernel.invokeFunction('convertToInteractive',\n",
       "                                                     [key], {});\n",
       "          if (!dataTable) return;\n",
       "\n",
       "          const docLinkHtml = 'Like what you see? Visit the ' +\n",
       "            '<a target=\"_blank\" href=https://colab.research.google.com/notebooks/data_table.ipynb>data table notebook</a>'\n",
       "            + ' to learn more about interactive tables.';\n",
       "          element.innerHTML = '';\n",
       "          dataTable['output_type'] = 'display_data';\n",
       "          await google.colab.output.renderOutput(dataTable, element);\n",
       "          const docLink = document.createElement('div');\n",
       "          docLink.innerHTML = docLinkHtml;\n",
       "          element.appendChild(docLink);\n",
       "        }\n",
       "      </script>\n",
       "    </div>\n",
       "  </div>\n",
       "  "
      ],
      "text/plain": [
       "       sepal_length  sepal_width  petal_length  petal_width\n",
       "count    150.000000   150.000000    150.000000   150.000000\n",
       "mean       5.843333     3.054000      3.758667     1.198667\n",
       "std        0.828066     0.433594      1.764420     0.763161\n",
       "min        4.300000     2.000000      1.000000     0.100000\n",
       "25%        5.100000     2.800000      1.600000     0.300000\n",
       "50%        5.800000     3.000000      4.350000     1.300000\n",
       "75%        6.400000     3.300000      5.100000     1.800000\n",
       "max        7.900000     4.400000      6.900000     2.500000"
      ]
     },
     "execution_count": 91,
     "metadata": {},
     "output_type": "execute_result"
    }
   ],
   "source": [
    "data=pd.read_csv(\"FlowersData.csv\")\n",
    "data.describe()"
   ]
  },
  {
   "cell_type": "markdown",
   "metadata": {
    "id": "7LsiIV9n4QMz"
   },
   "source": [
    "**Part B** - Split data into training and test data using SKLearn train_test_split. Specify parameter test_size to be 25%\n",
    "\n",
    "Hint: You will be needing 4 arrays: X_train, X_test, y_train, y_test"
   ]
  },
  {
   "cell_type": "code",
   "execution_count": null,
   "metadata": {
    "id": "f49YQ4GT4k5s"
   },
   "outputs": [],
   "source": [
    "X = data.iloc[:, [0,1,2,]].values\n",
    "y = data.iloc[:, 4].values\n",
    "\n",
    "X_train, X_test, y_train, y_test = train_test_split(x, y, test_size=0.25,random_state=16)"
   ]
  },
  {
   "cell_type": "markdown",
   "metadata": {
    "id": "Ez5Fa2ePDzXu"
   },
   "source": [
    "**Part C** - Perform scaling on the X_test and X_train values using StandardScacler from SKLearn Library"
   ]
  },
  {
   "cell_type": "code",
   "execution_count": null,
   "metadata": {
    "id": "97-2bUgtDzXv"
   },
   "outputs": [],
   "source": [
    "from sklearn.preprocessing import StandardScaler\n",
    "sc = StandardScaler()\n",
    "X_train = sc.fit_transform(X_train)\n",
    "X_test = sc.transform(X_test)"
   ]
  },
  {
   "cell_type": "markdown",
   "metadata": {
    "id": "E9BlQYh54lLX"
   },
   "source": [
    "**Part D** - Train Model using SKLearn LogisticRegression"
   ]
  },
  {
   "cell_type": "code",
   "execution_count": null,
   "metadata": {
    "colab": {
     "base_uri": "https://localhost:8080/"
    },
    "id": "hD_MUVu64xkw",
    "outputId": "0db88a05-037d-4c9e-bffa-d5f7c595a253"
   },
   "outputs": [
    {
     "data": {
      "text/plain": [
       "LogisticRegression(random_state=16)"
      ]
     },
     "execution_count": 77,
     "metadata": {},
     "output_type": "execute_result"
    }
   ],
   "source": [
    "logisticRegr = LogisticRegression(random_state=16)\n",
    "logisticRegr.fit(X_train, y_train)\n",
    "\n"
   ]
  },
  {
   "cell_type": "markdown",
   "metadata": {
    "id": "-HKhBOzW4xSx"
   },
   "source": [
    "**Part E** - Predict Labels for test split"
   ]
  },
  {
   "cell_type": "code",
   "execution_count": null,
   "metadata": {
    "colab": {
     "base_uri": "https://localhost:8080/"
    },
    "id": "IqpPKB1M5G4G",
    "outputId": "45ece9c4-0e57-426b-8e40-3a60bb23292a"
   },
   "outputs": [
    {
     "name": "stdout",
     "output_type": "stream",
     "text": [
      "prediction:  ['daffodil' 'hibiscus' 'daffodil' 'lily' 'daffodil' 'hibiscus' 'daffodil'\n",
      " 'hibiscus' 'hibiscus' 'daffodil' 'daffodil' 'lily' 'daffodil' 'hibiscus'\n",
      " 'lily' 'daffodil' 'hibiscus' 'hibiscus' 'daffodil' 'daffodil' 'hibiscus'\n",
      " 'hibiscus' 'daffodil' 'lily' 'daffodil' 'daffodil' 'daffodil' 'lily'\n",
      " 'lily' 'hibiscus' 'lily' 'lily' 'hibiscus' 'daffodil' 'hibiscus'\n",
      " 'daffodil' 'hibiscus' 'daffodil']\n"
     ]
    }
   ],
   "source": [
    "predictions = logisticRegr.predict(X_test)\n",
    "print(\"prediction: \",predictions)\n"
   ]
  },
  {
   "cell_type": "markdown",
   "metadata": {
    "id": "34It-TAowlCw"
   },
   "source": [
    "---\n",
    "## Question 3\n",
    "\n",
    "Confusion Matrix Construction\n",
    "\n",
    "---"
   ]
  },
  {
   "cell_type": "markdown",
   "metadata": {
    "id": "vi_ix0XsxF8x"
   },
   "source": [
    "**Part A** - Using the prediction result of logistic regression (Question 2) construct a confusion matrix using SKLearn confusion_matrix\n",
    "\n",
    "Print out this confusion matrix"
   ]
  },
  {
   "cell_type": "code",
   "execution_count": null,
   "metadata": {
    "colab": {
     "base_uri": "https://localhost:8080/",
     "height": 392
    },
    "id": "o23T4fDsxD-L",
    "outputId": "7fc1d561-3fb0-4981-e687-ded023324fd0"
   },
   "outputs": [
    {
     "data": {
      "image/png": "[encoded data removed]",
      "text/plain": [
       "<Figure size 864x432 with 2 Axes>"
      ]
     },
     "metadata": {
      "needs_background": "light"
     },
     "output_type": "display_data"
    }
   ],
   "source": [
    "cm = metrics.confusion_matrix(y_test, predictions)\n",
    "plt.figure(figsize=(12,6))\n",
    "sns.heatmap(cm, annot=True, fmt=\".3f\", linewidths=.5, square = True, cmap = 'Blues_r');\n",
    "plt.ylabel('Actual label');\n",
    "plt.xlabel('Predicted label');\n"
   ]
  },
  {
   "cell_type": "markdown",
   "metadata": {
    "id": "JlYB9BY4xEh1"
   },
   "source": [
    "**Part B** - Calculate and print Accuracy"
   ]
  },
  {
   "cell_type": "code",
   "execution_count": null,
   "metadata": {
    "colab": {
     "base_uri": "https://localhost:8080/"
    },
    "id": "cupearHPxUKj",
    "outputId": "c56024e3-9853-4267-80e9-7abe897b3d50"
   },
   "outputs": [
    {
     "name": "stdout",
     "output_type": "stream",
     "text": [
      "\n",
      "Accuracy:  0.8947368421052632\n"
     ]
    }
   ],
   "source": [
    "\n",
    "print('\\nAccuracy: ',(accuracy_score(y_test, predictions)))"
   ]
  },
  {
   "cell_type": "markdown",
   "metadata": {
    "id": "RvEXBB3CxUk-"
   },
   "source": [
    "**Part C** - Calculate and print Recall"
   ]
  },
  {
   "cell_type": "code",
   "execution_count": null,
   "metadata": {
    "colab": {
     "base_uri": "https://localhost:8080/"
    },
    "id": "PyBufaj8xbKC",
    "outputId": "672ea810-6047-4bb7-824f-53b37d05a362"
   },
   "outputs": [
    {
     "name": "stdout",
     "output_type": "stream",
     "text": [
      "\n",
      "Recall:  0.8947368421052632\n"
     ]
    }
   ],
   "source": [
    "print('\\nRecall: ',(recall_score(y_test, predictions,average='weighted')))"
   ]
  },
  {
   "cell_type": "markdown",
   "metadata": {
    "id": "W6BgzGjMxbfu"
   },
   "source": [
    "**Part D** - Calculate and print Precision"
   ]
  },
  {
   "cell_type": "code",
   "execution_count": null,
   "metadata": {
    "colab": {
     "base_uri": "https://localhost:8080/"
    },
    "id": "gHJg8C-1xg_6",
    "outputId": "d278952a-6879-437a-fe58-645f6d080324"
   },
   "outputs": [
    {
     "name": "stdout",
     "output_type": "stream",
     "text": [
      "Precision:  0.8974458204334365\n"
     ]
    }
   ],
   "source": [
    "print('Precision: ',(precision_score(y_test, predictions, average='weighted')))"
   ]
  },
  {
   "cell_type": "markdown",
   "metadata": {
    "id": "6RPHz7hVxhbk"
   },
   "source": [
    "**Part E** - Calculate and print $𝐹_1$ Score"
   ]
  },
  {
   "cell_type": "code",
   "execution_count": null,
   "metadata": {
    "colab": {
     "base_uri": "https://localhost:8080/"
    },
    "id": "NmwjCpMixmeJ",
    "outputId": "468947cc-d8ca-454c-ddf2-bc9bd3674737"
   },
   "outputs": [
    {
     "name": "stdout",
     "output_type": "stream",
     "text": [
      "F1-score:  0.8921783625730995\n"
     ]
    }
   ],
   "source": [
    "print('F1-score: ',(f1_score(y_test, predictions, average='weighted')))\n"
   ]
  }
 ],
 "metadata": {
  "celltoolbar": "Slideshow",
  "colab": {
   "collapsed_sections": [],
   "provenance": []
  },
  "kernelspec": {
   "display_name": "Python 3 (ipykernel)",
   "language": "python",
   "name": "python3"
  },
  "language_info": {
   "codemirror_mode": {
    "name": "ipython",
    "version": 3
   },
   "file_extension": ".py",
   "mimetype": "text/x-python",
   "name": "python",
   "nbconvert_exporter": "python",
   "pygments_lexer": "ipython3",
   "version": "3.9.12"
  }
 },
 "nbformat": 4,
 "nbformat_minor": 1
}
